{
 "cells": [
  {
   "cell_type": "markdown",
   "id": "b2c1bec6-34d2-40a9-9aa6-4b3b57a91392",
   "metadata": {},
   "source": [
    "# Konna alarmy\n"
   ]
  },
  {
   "cell_type": "code",
   "execution_count": 155,
   "id": "48fa01e0-08d4-4fcb-a19d-e1f542e33a67",
   "metadata": {},
   "outputs": [
    {
     "data": {
      "text/html": [
       "<div>\n",
       "<style scoped>\n",
       "    .dataframe tbody tr th:only-of-type {\n",
       "        vertical-align: middle;\n",
       "    }\n",
       "\n",
       "    .dataframe tbody tr th {\n",
       "        vertical-align: top;\n",
       "    }\n",
       "\n",
       "    .dataframe thead th {\n",
       "        text-align: right;\n",
       "    }\n",
       "</style>\n",
       "<table border=\"1\" class=\"dataframe\">\n",
       "  <thead>\n",
       "    <tr style=\"text-align: right;\">\n",
       "      <th></th>\n",
       "      <th>numer</th>\n",
       "      <th>opis</th>\n",
       "      <th>adres</th>\n",
       "      <th>data_godzina</th>\n",
       "    </tr>\n",
       "  </thead>\n",
       "  <tbody>\n",
       "    <tr>\n",
       "      <th>0</th>\n",
       "      <td>2926</td>\n",
       "      <td>Zakoñczenie alarmu poziomu A1</td>\n",
       "      <td>9</td>\n",
       "      <td>2022-01-26 05:51:07</td>\n",
       "    </tr>\n",
       "    <tr>\n",
       "      <th>1</th>\n",
       "      <td>2927</td>\n",
       "      <td>Zakoñczenie alarmu poziomu A1</td>\n",
       "      <td>5</td>\n",
       "      <td>2022-01-26 05:59:47</td>\n",
       "    </tr>\n",
       "    <tr>\n",
       "      <th>2</th>\n",
       "      <td>2928</td>\n",
       "      <td>Zakoñczenie alarmu poziomu A1</td>\n",
       "      <td>232</td>\n",
       "      <td>2022-01-26 06:00:01</td>\n",
       "    </tr>\n",
       "    <tr>\n",
       "      <th>3</th>\n",
       "      <td>2929</td>\n",
       "      <td>Zakoñczenie awarii urz¹dzenia</td>\n",
       "      <td>232</td>\n",
       "      <td>2022-01-26 06:00:01</td>\n",
       "    </tr>\n",
       "    <tr>\n",
       "      <th>4</th>\n",
       "      <td>2930</td>\n",
       "      <td>Zerowanie</td>\n",
       "      <td>0</td>\n",
       "      <td>2022-01-26 10:04:42</td>\n",
       "    </tr>\n",
       "    <tr>\n",
       "      <th>...</th>\n",
       "      <td>...</td>\n",
       "      <td>...</td>\n",
       "      <td>...</td>\n",
       "      <td>...</td>\n",
       "    </tr>\n",
       "    <tr>\n",
       "      <th>3066</th>\n",
       "      <td>2921</td>\n",
       "      <td>Alarm poziomu A1</td>\n",
       "      <td>9</td>\n",
       "      <td>2022-01-26 05:46:09</td>\n",
       "    </tr>\n",
       "    <tr>\n",
       "      <th>3067</th>\n",
       "      <td>2922</td>\n",
       "      <td>Alarm poziomu A1</td>\n",
       "      <td>232</td>\n",
       "      <td>2022-01-26 05:46:22</td>\n",
       "    </tr>\n",
       "    <tr>\n",
       "      <th>3068</th>\n",
       "      <td>2923</td>\n",
       "      <td>Awaria detektora</td>\n",
       "      <td>232</td>\n",
       "      <td>2022-01-26 05:46:22</td>\n",
       "    </tr>\n",
       "    <tr>\n",
       "      <th>3069</th>\n",
       "      <td>2924</td>\n",
       "      <td>Zakoñczenie alarmu poziomu A1</td>\n",
       "      <td>9</td>\n",
       "      <td>2022-01-26 05:49:25</td>\n",
       "    </tr>\n",
       "    <tr>\n",
       "      <th>3070</th>\n",
       "      <td>2925</td>\n",
       "      <td>Alarm poziomu A1</td>\n",
       "      <td>9</td>\n",
       "      <td>2022-01-26 05:49:52</td>\n",
       "    </tr>\n",
       "  </tbody>\n",
       "</table>\n",
       "<p>915 rows × 4 columns</p>\n",
       "</div>"
      ],
      "text/plain": [
       "      numer                           opis  adres         data_godzina\n",
       "0      2926  Zakoñczenie alarmu poziomu A1      9  2022-01-26 05:51:07\n",
       "1      2927  Zakoñczenie alarmu poziomu A1      5  2022-01-26 05:59:47\n",
       "2      2928  Zakoñczenie alarmu poziomu A1    232  2022-01-26 06:00:01\n",
       "3      2929  Zakoñczenie awarii urz¹dzenia    232  2022-01-26 06:00:01\n",
       "4      2930                      Zerowanie      0  2022-01-26 10:04:42\n",
       "...     ...                            ...    ...                  ...\n",
       "3066   2921               Alarm poziomu A1      9  2022-01-26 05:46:09\n",
       "3067   2922               Alarm poziomu A1    232  2022-01-26 05:46:22\n",
       "3068   2923               Awaria detektora    232  2022-01-26 05:46:22\n",
       "3069   2924  Zakoñczenie alarmu poziomu A1      9  2022-01-26 05:49:25\n",
       "3070   2925               Alarm poziomu A1      9  2022-01-26 05:49:52\n",
       "\n",
       "[915 rows x 4 columns]"
      ]
     },
     "execution_count": 155,
     "metadata": {},
     "output_type": "execute_result"
    }
   ],
   "source": [
    "import pandas as pd\n",
    "import numpy as np\n",
    "import matplotlib.pyplot as plt\n",
    "# sensor5 = pd.read_csv('konna/hist5.csv', sep=';', encoding = 'latin1')\n",
    "# sensor6 = pd.read_csv('konna/hist6.csv', sep=';', encoding = 'latin1')\n",
    "# sensor7 = pd.read_csv('konna/hist7.csv', sep=';', encoding = 'latin1')\n",
    "# sensor9 = pd.read_csv('konna/hist9.csv', sep=';', encoding = 'latin1')\n",
    "df_all = pd.read_csv('konna/historia_wszystkie_zdarzenia.csv', sep=';', encoding = 'latin1')\n",
    "new_columns = ['numer', 'opis', 'adres', 'data_godzina']\n",
    "df_all.columns = new_columns\n",
    "df_all = df_all[df_all['data_godzina'] > '2021-09-03']\n",
    "df_all"
   ]
  },
  {
   "cell_type": "code",
   "execution_count": 191,
   "id": "b4238d90-b915-4d91-9698-4ebee4f57283",
   "metadata": {},
   "outputs": [
    {
     "data": {
      "text/html": [
       "<div>\n",
       "<style scoped>\n",
       "    .dataframe tbody tr th:only-of-type {\n",
       "        vertical-align: middle;\n",
       "    }\n",
       "\n",
       "    .dataframe tbody tr th {\n",
       "        vertical-align: top;\n",
       "    }\n",
       "\n",
       "    .dataframe thead th {\n",
       "        text-align: right;\n",
       "    }\n",
       "</style>\n",
       "<table border=\"1\" class=\"dataframe\">\n",
       "  <thead>\n",
       "    <tr style=\"text-align: right;\">\n",
       "      <th></th>\n",
       "      <th>ilosc_wystapien_alarmu_A1</th>\n",
       "    </tr>\n",
       "    <tr>\n",
       "      <th>adres</th>\n",
       "      <th></th>\n",
       "    </tr>\n",
       "  </thead>\n",
       "  <tbody>\n",
       "    <tr>\n",
       "      <th>1</th>\n",
       "      <td>3</td>\n",
       "    </tr>\n",
       "    <tr>\n",
       "      <th>2</th>\n",
       "      <td>2</td>\n",
       "    </tr>\n",
       "    <tr>\n",
       "      <th>3</th>\n",
       "      <td>2</td>\n",
       "    </tr>\n",
       "    <tr>\n",
       "      <th>4</th>\n",
       "      <td>2</td>\n",
       "    </tr>\n",
       "    <tr>\n",
       "      <th>5</th>\n",
       "      <td>87</td>\n",
       "    </tr>\n",
       "    <tr>\n",
       "      <th>6</th>\n",
       "      <td>23</td>\n",
       "    </tr>\n",
       "    <tr>\n",
       "      <th>7</th>\n",
       "      <td>12</td>\n",
       "    </tr>\n",
       "    <tr>\n",
       "      <th>8</th>\n",
       "      <td>2</td>\n",
       "    </tr>\n",
       "    <tr>\n",
       "      <th>9</th>\n",
       "      <td>73</td>\n",
       "    </tr>\n",
       "    <tr>\n",
       "      <th>10</th>\n",
       "      <td>2</td>\n",
       "    </tr>\n",
       "    <tr>\n",
       "      <th>11</th>\n",
       "      <td>2</td>\n",
       "    </tr>\n",
       "  </tbody>\n",
       "</table>\n",
       "</div>"
      ],
      "text/plain": [
       "       ilosc_wystapien_alarmu_A1\n",
       "adres                           \n",
       "1                              3\n",
       "2                              2\n",
       "3                              2\n",
       "4                              2\n",
       "5                             87\n",
       "6                             23\n",
       "7                             12\n",
       "8                              2\n",
       "9                             73\n",
       "10                             2\n",
       "11                             2"
      ]
     },
     "execution_count": 191,
     "metadata": {},
     "output_type": "execute_result"
    }
   ],
   "source": [
    "df_a1 = df_all[df_all['opis'] == 'Alarm poziomu A1'].groupby(by = 'adres').count()\n",
    "df_a1['adres_detektora'] = df_a1.index\n",
    "df_a1 = df_a1[df_a1['adres_detektora'] < 200]\n",
    "df_a1['ilosc_wystapien_alarmu_A1']  = df_a1['opis']\n",
    "df_a1[['ilosc_wystapien_alarmu_A1']]\n"
   ]
  },
  {
   "cell_type": "code",
   "execution_count": 192,
   "id": "f4fc16ac-608d-4e41-bb36-6ba1610d9bbc",
   "metadata": {},
   "outputs": [
    {
     "name": "stderr",
     "output_type": "stream",
     "text": [
      "C:\\Users\\zieli\\AppData\\Local\\Temp/ipykernel_9584/1276210236.py:14: UserWarning: Matplotlib is currently using module://matplotlib_inline.backend_inline, which is a non-GUI backend, so cannot show the figure.\n",
      "  fig.show()\n"
     ]
    },
    {
     "data": {
      "image/png": "[encoded data removed]",
      "text/plain": [
       "<Figure size 432x288 with 1 Axes>"
      ]
     },
     "metadata": {
      "needs_background": "light"
     },
     "output_type": "display_data"
    }
   ],
   "source": [
    "X = df_a1['adres_detektora']\n",
    "Y = df_a1['opis']\n",
    "\n",
    "fig, ax = plt.subplots()\n",
    "ax.bar(X, Y, color = 'green')\n",
    "\n",
    "plt.title('Alarm A1')\n",
    "plt.xlabel('adres detektora')\n",
    "plt.ylabel('ilosc wystapien alarmu A1')\n",
    "plt.xticks(range(1, 12))\n",
    "plt.yticks(range(1, 101, 9))\n",
    "\n",
    "fig.savefig('a1.pdf')\n",
    "fig.show()"
   ]
  },
  {
   "cell_type": "code",
   "execution_count": 193,
   "id": "59a7df67-9805-489d-b330-7eee4a44b695",
   "metadata": {},
   "outputs": [
    {
     "data": {
      "text/html": [
       "<div>\n",
       "<style scoped>\n",
       "    .dataframe tbody tr th:only-of-type {\n",
       "        vertical-align: middle;\n",
       "    }\n",
       "\n",
       "    .dataframe tbody tr th {\n",
       "        vertical-align: top;\n",
       "    }\n",
       "\n",
       "    .dataframe thead th {\n",
       "        text-align: right;\n",
       "    }\n",
       "</style>\n",
       "<table border=\"1\" class=\"dataframe\">\n",
       "  <thead>\n",
       "    <tr style=\"text-align: right;\">\n",
       "      <th></th>\n",
       "      <th>ilosc_wystapien_alarmu_A2</th>\n",
       "    </tr>\n",
       "    <tr>\n",
       "      <th>adres</th>\n",
       "      <th></th>\n",
       "    </tr>\n",
       "  </thead>\n",
       "  <tbody>\n",
       "    <tr>\n",
       "      <th>1</th>\n",
       "      <td>2</td>\n",
       "    </tr>\n",
       "    <tr>\n",
       "      <th>2</th>\n",
       "      <td>2</td>\n",
       "    </tr>\n",
       "    <tr>\n",
       "      <th>3</th>\n",
       "      <td>2</td>\n",
       "    </tr>\n",
       "    <tr>\n",
       "      <th>4</th>\n",
       "      <td>2</td>\n",
       "    </tr>\n",
       "    <tr>\n",
       "      <th>5</th>\n",
       "      <td>1</td>\n",
       "    </tr>\n",
       "    <tr>\n",
       "      <th>6</th>\n",
       "      <td>2</td>\n",
       "    </tr>\n",
       "    <tr>\n",
       "      <th>7</th>\n",
       "      <td>2</td>\n",
       "    </tr>\n",
       "    <tr>\n",
       "      <th>8</th>\n",
       "      <td>2</td>\n",
       "    </tr>\n",
       "    <tr>\n",
       "      <th>9</th>\n",
       "      <td>1</td>\n",
       "    </tr>\n",
       "    <tr>\n",
       "      <th>10</th>\n",
       "      <td>2</td>\n",
       "    </tr>\n",
       "    <tr>\n",
       "      <th>11</th>\n",
       "      <td>2</td>\n",
       "    </tr>\n",
       "  </tbody>\n",
       "</table>\n",
       "</div>"
      ],
      "text/plain": [
       "       ilosc_wystapien_alarmu_A2\n",
       "adres                           \n",
       "1                              2\n",
       "2                              2\n",
       "3                              2\n",
       "4                              2\n",
       "5                              1\n",
       "6                              2\n",
       "7                              2\n",
       "8                              2\n",
       "9                              1\n",
       "10                             2\n",
       "11                             2"
      ]
     },
     "execution_count": 193,
     "metadata": {},
     "output_type": "execute_result"
    }
   ],
   "source": [
    "df_a2 = df_all[df_all['opis'] == 'Alarm poziomu A2'].groupby(by = 'adres').count()\n",
    "df_a2['adres_detektora'] = df_a2.index\n",
    "df_a2 = df_a2[df_a2['adres_detektora'] < 200]\n",
    "df_a2['ilosc_wystapien_alarmu_A2']  = df_a2['opis']\n",
    "df_a2[['ilosc_wystapien_alarmu_A2']]"
   ]
  },
  {
   "cell_type": "code",
   "execution_count": 180,
   "id": "5cf814cd-510a-4253-87cf-6a634819eed9",
   "metadata": {},
   "outputs": [
    {
     "name": "stderr",
     "output_type": "stream",
     "text": [
      "C:\\Users\\zieli\\AppData\\Local\\Temp/ipykernel_9584/1245940707.py:17: UserWarning: Matplotlib is currently using module://matplotlib_inline.backend_inline, which is a non-GUI backend, so cannot show the figure.\n",
      "  fig.show()\n"
     ]
    },
    {
     "data": {
      "image/png": "[encoded data removed]",
      "text/plain": [
       "<Figure size 432x288 with 1 Axes>"
      ]
     },
     "metadata": {
      "needs_background": "light"
     },
     "output_type": "display_data"
    }
   ],
   "source": [
    "X = df_a2['adres_detektora']\n",
    "Y = df_a2['opis']\n",
    "\n",
    "fig, ax = plt.subplots()\n",
    "ax.bar(X, Y, color = 'green')\n",
    "\n",
    "plt.title('Alarm A2')\n",
    "plt.xlabel('adres detektora')\n",
    "plt.ylabel('ilosc wystapien alarmu A2')\n",
    "plt.xticks(range(1, 12))\n",
    "plt.yticks(range(1, 11, 1))\n",
    "\n",
    "fig.savefig('a2.pdf')\n",
    "fig.show()"
   ]
  },
  {
   "cell_type": "code",
   "execution_count": 194,
   "id": "e459f59c-10c0-4397-99ac-c83d1333de27",
   "metadata": {},
   "outputs": [
    {
     "data": {
      "text/html": [
       "<div>\n",
       "<style scoped>\n",
       "    .dataframe tbody tr th:only-of-type {\n",
       "        vertical-align: middle;\n",
       "    }\n",
       "\n",
       "    .dataframe tbody tr th {\n",
       "        vertical-align: top;\n",
       "    }\n",
       "\n",
       "    .dataframe thead th {\n",
       "        text-align: right;\n",
       "    }\n",
       "</style>\n",
       "<table border=\"1\" class=\"dataframe\">\n",
       "  <thead>\n",
       "    <tr style=\"text-align: right;\">\n",
       "      <th></th>\n",
       "      <th>ilosc_wystapien_alarmu_A3</th>\n",
       "    </tr>\n",
       "    <tr>\n",
       "      <th>adres</th>\n",
       "      <th></th>\n",
       "    </tr>\n",
       "  </thead>\n",
       "  <tbody>\n",
       "    <tr>\n",
       "      <th>1</th>\n",
       "      <td>2</td>\n",
       "    </tr>\n",
       "    <tr>\n",
       "      <th>2</th>\n",
       "      <td>2</td>\n",
       "    </tr>\n",
       "    <tr>\n",
       "      <th>3</th>\n",
       "      <td>1</td>\n",
       "    </tr>\n",
       "    <tr>\n",
       "      <th>5</th>\n",
       "      <td>1</td>\n",
       "    </tr>\n",
       "    <tr>\n",
       "      <th>10</th>\n",
       "      <td>2</td>\n",
       "    </tr>\n",
       "    <tr>\n",
       "      <th>11</th>\n",
       "      <td>2</td>\n",
       "    </tr>\n",
       "  </tbody>\n",
       "</table>\n",
       "</div>"
      ],
      "text/plain": [
       "       ilosc_wystapien_alarmu_A3\n",
       "adres                           \n",
       "1                              2\n",
       "2                              2\n",
       "3                              1\n",
       "5                              1\n",
       "10                             2\n",
       "11                             2"
      ]
     },
     "execution_count": 194,
     "metadata": {},
     "output_type": "execute_result"
    }
   ],
   "source": [
    "df_a3 = df_all[df_all['opis'] == 'Alarm poziomu A3'].groupby(by = 'adres').count()\n",
    "df_a3['adres_detektora'] = df_a3.index\n",
    "df_a3 = df_a3[df_a3['adres_detektora'] < 200]\n",
    "df_a3['ilosc_wystapien_alarmu_A3']  = df_a3['opis']\n",
    "df_a3[['ilosc_wystapien_alarmu_A3']]"
   ]
  },
  {
   "cell_type": "code",
   "execution_count": 195,
   "id": "a2413de5-42d8-46b0-9661-6c2d79bc5477",
   "metadata": {},
   "outputs": [
    {
     "name": "stderr",
     "output_type": "stream",
     "text": [
      "C:\\Users\\zieli\\AppData\\Local\\Temp/ipykernel_9584/1947605800.py:14: UserWarning: Matplotlib is currently using module://matplotlib_inline.backend_inline, which is a non-GUI backend, so cannot show the figure.\n",
      "  fig.show()\n"
     ]
    },
    {
     "data": {
      "image/png": "[encoded data removed]",
      "text/plain": [
       "<Figure size 432x288 with 1 Axes>"
      ]
     },
     "metadata": {
      "needs_background": "light"
     },
     "output_type": "display_data"
    }
   ],
   "source": [
    "X = df_a3['adres_detektora']\n",
    "Y = df_a3['opis']\n",
    "\n",
    "fig, ax = plt.subplots()\n",
    "ax.bar(X, Y, color = 'green')\n",
    "\n",
    "plt.title('Alarm A2')\n",
    "plt.xlabel('adres detektora')\n",
    "plt.ylabel('ilosc wystapien alarmu A3')\n",
    "plt.xticks(range(1, 12))\n",
    "plt.yticks(range(1, 11, 1))\n",
    "\n",
    "fig.savefig('a3.pdf')\n",
    "fig.show()"
   ]
  },
  {
   "cell_type": "code",
   "execution_count": 3,
   "id": "2549d49d-0161-454b-8d7c-0ea7529d4f7c",
   "metadata": {},
   "outputs": [
    {
     "data": {
      "text/html": [
       "<script>\n",
       "code_show=true; \n",
       "function code_toggle() {\n",
       " if (code_show){\n",
       " $('div.input').hide();\n",
       " } else {\n",
       " $('div.input').show();\n",
       " }\n",
       " code_show = !code_show\n",
       "} \n",
       "$( document ).ready(code_toggle);\n",
       "</script>\n",
       "<form action=\"javascript:code_toggle()\"><input type=\"submit\" value=\"Click here to toggle on/off the raw code.\"></form>"
      ],
      "text/plain": [
       "<IPython.core.display.HTML object>"
      ]
     },
     "execution_count": 3,
     "metadata": {},
     "output_type": "execute_result"
    }
   ],
   "source": [
    "from IPython.display import HTML\n",
    "\n",
    "HTML('''<script>\n",
    "code_show=true; \n",
    "function code_toggle() {\n",
    " if (code_show){\n",
    " $('div.input').hide();\n",
    " } else {\n",
    " $('div.input').show();\n",
    " }\n",
    " code_show = !code_show\n",
    "} \n",
    "$( document ).ready(code_toggle);\n",
    "</script>\n",
    "<form action=\"javascript:code_toggle()\"><input type=\"submit\" value=\"Click here to toggle on/off the raw code.\"></form>''')"
   ]
  },
  {
   "cell_type": "code",
   "execution_count": null,
   "id": "c34b8e43-6c1b-45ae-b8cf-ccbdeaada660",
   "metadata": {},
   "outputs": [],
   "source": []
  }
 ],
 "metadata": {
  "kernelspec": {
   "display_name": "Python 3 (ipykernel)",
   "language": "python",
   "name": "python3"
  },
  "language_info": {
   "codemirror_mode": {
    "name": "ipython",
    "version": 3
   },
   "file_extension": ".py",
   "mimetype": "text/x-python",
   "name": "python",
   "nbconvert_exporter": "python",
   "pygments_lexer": "ipython3",
   "version": "3.9.7"
  }
 },
 "nbformat": 4,
 "nbformat_minor": 5
}
